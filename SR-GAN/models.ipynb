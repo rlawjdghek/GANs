{
 "cells": [
  {
   "cell_type": "code",
   "execution_count": 88,
   "metadata": {},
   "outputs": [],
   "source": [
    "from collections import OrderedDict\n",
    "\n",
    "import torch\n",
    "import torch.nn as nn\n",
    "import torchvision"
   ]
  },
  {
   "cell_type": "code",
   "execution_count": 141,
   "metadata": {},
   "outputs": [],
   "source": [
    "class Feature_Extraction(nn.Module):  # 이 모델을 통과하면 가로 세로가 1/4 로 줄어든다.\n",
    "    def __init__(self):\n",
    "        super(Feature_Extraction, self).__init__()\n",
    "        self.fe = nn.Sequential(*list(torchvision.models.vgg19(pretrained=True).features.children())[:18])\n",
    "        \n",
    "    def forward(self, img):\n",
    "        return self.fe(img)\n",
    "    \n",
    "class Discriminator(nn.Module):  # without fully connect layer, output shape => [BATCH_SIZE x 1 x w//2**(n+1) x h//2**(n+1)]\n",
    "    def __init__(self, channels, input_size):\n",
    "        super(Discriminator, self).__init__()\n",
    "        self.output_size = (input_size[0] // (len(channels) +1), input_size[1] // (len(channels) + 1))\n",
    "        out_channels = channels[0]\n",
    "        blocks = self._block(3, out_channels, first_bn=False)\n",
    "        in_channels = out_channels\n",
    "        for out_channels in channels:\n",
    "            blocks.extend(self._block(in_channels, out_channels))\n",
    "            in_channels = out_channels\n",
    "        blocks.append(nn.Conv2d(in_channels, 1, kernel_size=3, stride=1, padding=1))\n",
    "        self.discriminator_model = nn.Sequential(*blocks)\n",
    "        \n",
    "    def _block(self, in_channels, out_channels, first_bn=True):\n",
    "        block = [nn.Conv2d(in_channels, out_channels, kernel_size = 3, stride=1, padding=1)]\n",
    "        if first_bn:\n",
    "            block.append(nn.BatchNorm2d(out_channels))\n",
    "        block.append(nn.LeakyReLU(0.2))\n",
    "        block.append(nn.Conv2d(out_channels, out_channels, kernel_size=3, stride=2, padding=1))\n",
    "        block.append(nn.BatchNorm2d(out_channels))\n",
    "        block.append(nn.LeakyReLU(0.2))\n",
    "        return block\n",
    "    \n",
    "    def forward(self, img):\n",
    "        return self.discriminator_model(img)\n",
    "    \n",
    "class res_block(nn.Module):\n",
    "    def __init__(self, in_channels):\n",
    "        super(res_block, self).__init__()\n",
    "        out_channels = in_channels\n",
    "        blocks = [nn.Conv2d(in_channels, out_channels, kernel_size=3, stride=1, padding=1)]\n",
    "        blocks.append(nn.BatchNorm2d(out_channels))\n",
    "        blocks.append(nn.PReLU())\n",
    "        blocks.append(nn.Conv2d(out_channels, out_channels, kernel_size=3, stride=1, padding=1))\n",
    "        blocks.append(nn.BatchNorm2d(out_channels))\n",
    "        self.res_block_model = nn.Sequential(*blocks)\n",
    "    \n",
    "    def forward(self, x):\n",
    "        return x + self.res_block_model(x)\n",
    "\n",
    "class Generator(nn.Module):\n",
    "    def __init__(self, input_shape, in_channels=3, out_channels=3, n_res_blocks = 8):\n",
    "        super(Generator, self).__init__()\n",
    "        self.conv1 = nn.Sequential(*[nn.Conv2d(in_channels, 64, kernel_size=9, stride=1, padding=4), nn.PReLU()])\n",
    "        res_blocks = []\n",
    "        for i in range(n_res_blocks):\n",
    "            res_blocks.append(res_block(64))\n",
    "        self.resblocks = nn.Sequential(*res_blocks)\n",
    "            \n",
    "        self.conv2 = nn.Sequential(*[nn.Conv2d(64,64, kernel_size=3, stride=1, padding=1), nn.BatchNorm2d(64)])\n",
    "        \n",
    "        self.upsample1 = nn.Sequential(*[\n",
    "            nn.Conv2d(64, 256, kernel_size=3, stride=1, padding=1),\n",
    "            nn.BatchNorm2d(256),\n",
    "            nn.PixelShuffle(upscale_factor=2),  # this module allocate of channels to height and width. In this case, channel goes to \n",
    "            #channel -> channel x 4 and height -> height x 2 and width -> width x 2\n",
    "            nn.PReLU()\n",
    "        ])\n",
    "        self.upsample2 = nn.Sequential(*[\n",
    "            nn.Conv2d(64, 256, kernel_size=3, stride=1, padding=1),\n",
    "            nn.BatchNorm2d(256),\n",
    "            nn.PixelShuffle(upscale_factor=2),\n",
    "            nn.PReLU()\n",
    "        ])\n",
    "        \n",
    "        self.conv3 = nn.Sequential(*[nn.Conv2d(64, out_channels, kernel_size=9, stride=1, padding=4), nn.Tanh()])\n",
    "        \n",
    "        \n",
    "    def forward(self, img):\n",
    "        x = self.conv1(img)\n",
    "        x = self.resblocks(x)\n",
    "        x = self.conv2(x)\n",
    "        x = self.upsample1(x)\n",
    "        x = self.upsample2(x)\n",
    "        x = self.conv3(x)\n",
    "        return x"
   ]
  },
  {
   "cell_type": "code",
   "execution_count": 146,
   "metadata": {},
   "outputs": [],
   "source": [
    "dis = Discriminator([64,128,128,256,512])"
   ]
  },
  {
   "cell_type": "code",
   "execution_count": 147,
   "metadata": {},
   "outputs": [],
   "source": [
    "sample = torch.zeros(10,3,1024,1024)"
   ]
  },
  {
   "cell_type": "code",
   "execution_count": 148,
   "metadata": {},
   "outputs": [
    {
     "data": {
      "text/plain": [
       "torch.Size([10, 1, 16, 16])"
      ]
     },
     "execution_count": 148,
     "metadata": {},
     "output_type": "execute_result"
    }
   ],
   "source": [
    "dis(sample).shape"
   ]
  },
  {
   "cell_type": "code",
   "execution_count": null,
   "metadata": {},
   "outputs": [],
   "source": []
  }
 ],
 "metadata": {
  "kernelspec": {
   "display_name": "rlawjdghek",
   "language": "python",
   "name": "rlawjdghek"
  },
  "language_info": {
   "codemirror_mode": {
    "name": "ipython",
    "version": 3
   },
   "file_extension": ".py",
   "mimetype": "text/x-python",
   "name": "python",
   "nbconvert_exporter": "python",
   "pygments_lexer": "ipython3",
   "version": "3.7.7"
  }
 },
 "nbformat": 4,
 "nbformat_minor": 4
}
