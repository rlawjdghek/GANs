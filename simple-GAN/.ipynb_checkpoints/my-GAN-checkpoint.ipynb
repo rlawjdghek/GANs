{
 "cells": [
  {
   "cell_type": "code",
   "execution_count": 69,
   "metadata": {},
   "outputs": [],
   "source": [
    "import numpy as np\n",
    "import os\n",
    "\n",
    "import torch\n",
    "import torch.nn as nn\n",
    "import torch.nn.functional as F\n",
    "import torchvision\n",
    "from torchvision import transforms"
   ]
  },
  {
   "cell_type": "code",
   "execution_count": 70,
   "metadata": {},
   "outputs": [],
   "source": [
    "BATCH_SIZE = 256\n",
    "INPUT_SIZE = 28\n",
    "LATENT_DIM = 100\n",
    "INPUT_SHAPE = (1, INPUT_SIZE, INPUT_SIZE)\n",
    "LEARNING_RATE = 1e-4\n",
    "BETAS = (0.5, 0.999)\n",
    "NUM_EPOCHS = 200"
   ]
  },
  {
   "cell_type": "code",
   "execution_count": 71,
   "metadata": {},
   "outputs": [],
   "source": [
    "transform = transforms.Compose([\n",
    "    transforms.ToTensor(),\n",
    "    transforms.Normalize([0.5],[0.5])\n",
    "])\n",
    "train_dataset = torchvision.datasets.MNIST(root = \"../data\", download = True, transform = transform)\n",
    "train_loader = torch.utils.data.DataLoader(train_dataset, batch_size = BATCH_SIZE, shuffle=True, pin_memory = True, num_workers = 4, drop_last = True)"
   ]
  },
  {
   "cell_type": "code",
   "execution_count": 72,
   "metadata": {},
   "outputs": [],
   "source": [
    "class Generator(nn.Module):\n",
    "    def __init__(self, latent_dim, channel_list : list):\n",
    "        super(Generator, self).__init__()\n",
    "        blocks = [*self._basic_block(latent_dim, channel_list[0], bn = False)]\n",
    "        for in_ch, out_ch in zip(channel_list[:-1], channel_list[1:]):\n",
    "            blocks.extend(self._basic_block(in_ch, out_ch))\n",
    "        self.generator = nn.Sequential(*blocks)\n",
    "        self.generator.add_module(\"last linear\", nn.Linear(channel_list[-1], int(np.prod(INPUT_SHAPE))))\n",
    "        self.generator.add_module(\"sigmoid\", nn.Tanh())\n",
    "        \n",
    "    def _basic_block(self, in_channels, out_channels, bn=True):\n",
    "        block = []\n",
    "        block.append(nn.Linear(in_channels, out_channels))\n",
    "        if bn:\n",
    "            block.append(nn.BatchNorm1d(out_channels))\n",
    "        block.append(nn.LeakyReLU(0.2))\n",
    "        return block\n",
    "\n",
    "    def forward(self, latent_z):\n",
    "        gene = self.generator(latent_z)  # gene => [BATHC_SIZE x LAST_CHANNEL]\n",
    "        return gene.reshape(gene.shape[0], *INPUT_SHAPE)  # return => [BATCH_SIZE x CHANNELS x W x H]\n",
    "\n",
    "class Discriminator(nn.Module):\n",
    "    def __init__(self):\n",
    "        super(Discriminator, self).__init__()\n",
    "        self.model = nn.Sequential(\n",
    "            nn.Linear(int(np.prod(INPUT_SHAPE)), 512),\n",
    "            nn.LeakyReLU(0.2),\n",
    "            nn.Linear(512, 256),\n",
    "            nn.LeakyReLU(0.2),\n",
    "            nn.Linear(256,1)       \n",
    "        )\n",
    "        \n",
    "    def forward(self, input_img):\n",
    "        input_flat = input_img.reshape(input_img.shape[0], -1)\n",
    "        output = torch.sigmoid(self.model(input_flat))\n",
    "        return output   "
   ]
  },
  {
   "cell_type": "code",
   "execution_count": 73,
   "metadata": {},
   "outputs": [],
   "source": [
    "device = torch.device(\"cuda\" if torch.cuda.is_available() else \"cpu\")\n",
    "\n",
    "generator = Generator(LATENT_DIM, [128,256,512, 1024]).to(device)\n",
    "discriminator = Discriminator().to(device)\n",
    "\n",
    "adversarial_loss = torch.nn.BCELoss()\n",
    "optimizer_G = torch.optim.Adam(generator.parameters(), lr = LEARNING_RATE, betas=BETAS)\n",
    "optimizer_D = torch.optim.Adam(discriminator.parameters(), lr = LEARNING_RATE, betas=BETAS)"
   ]
  },
  {
   "cell_type": "code",
   "execution_count": 74,
   "metadata": {},
   "outputs": [
    {
     "name": "stdout",
     "output_type": "stream",
     "text": [
      "EPOCH : [0/200], BATCH : [0/234], dis loss : 0.695376455783844, gen loss : 0.6860167384147644\n",
      "EPOCH : [1/200], BATCH : [0/234], dis loss : 0.7292101383209229, gen loss : 0.6361187696456909\n",
      "EPOCH : [2/200], BATCH : [0/234], dis loss : 0.650165319442749, gen loss : 0.7184280753135681\n",
      "EPOCH : [3/200], BATCH : [0/234], dis loss : 0.6115710735321045, gen loss : 0.7616978287696838\n",
      "EPOCH : [4/200], BATCH : [0/234], dis loss : 0.6366866827011108, gen loss : 0.7258772850036621\n",
      "EPOCH : [5/200], BATCH : [0/234], dis loss : 0.6746516227722168, gen loss : 0.7018426656723022\n",
      "EPOCH : [6/200], BATCH : [0/234], dis loss : 0.6287238597869873, gen loss : 0.900719165802002\n",
      "EPOCH : [7/200], BATCH : [0/234], dis loss : 0.6333433389663696, gen loss : 0.8512289524078369\n",
      "EPOCH : [8/200], BATCH : [0/234], dis loss : 0.633733332157135, gen loss : 0.9203134775161743\n",
      "EPOCH : [9/200], BATCH : [0/234], dis loss : 0.6223267912864685, gen loss : 1.2332603931427002\n",
      "EPOCH : [10/200], BATCH : [0/234], dis loss : 0.6832115650177002, gen loss : 0.4875914752483368\n",
      "EPOCH : [11/200], BATCH : [0/234], dis loss : 0.6129214763641357, gen loss : 0.8342716097831726\n",
      "EPOCH : [12/200], BATCH : [0/234], dis loss : 0.6207807660102844, gen loss : 0.5950337052345276\n",
      "EPOCH : [13/200], BATCH : [0/234], dis loss : 0.63490229845047, gen loss : 1.18611478805542\n",
      "EPOCH : [14/200], BATCH : [0/234], dis loss : 0.6454018354415894, gen loss : 0.6377770900726318\n",
      "EPOCH : [15/200], BATCH : [0/234], dis loss : 0.6470141410827637, gen loss : 1.1538279056549072\n",
      "EPOCH : [16/200], BATCH : [0/234], dis loss : 0.572200357913971, gen loss : 0.8317775726318359\n",
      "EPOCH : [17/200], BATCH : [0/234], dis loss : 0.6039544343948364, gen loss : 0.9596217274665833\n",
      "EPOCH : [18/200], BATCH : [0/234], dis loss : 0.6071528196334839, gen loss : 0.8724390864372253\n",
      "EPOCH : [19/200], BATCH : [0/234], dis loss : 0.6586103439331055, gen loss : 1.3589468002319336\n",
      "EPOCH : [20/200], BATCH : [0/234], dis loss : 0.6075709462165833, gen loss : 1.2595012187957764\n",
      "EPOCH : [21/200], BATCH : [0/234], dis loss : 0.6002324223518372, gen loss : 0.676371693611145\n",
      "EPOCH : [22/200], BATCH : [0/234], dis loss : 0.6011026501655579, gen loss : 1.0784003734588623\n",
      "EPOCH : [23/200], BATCH : [0/234], dis loss : 0.6166284084320068, gen loss : 0.8017120957374573\n",
      "EPOCH : [24/200], BATCH : [0/234], dis loss : 0.6082452535629272, gen loss : 1.0376430749893188\n",
      "EPOCH : [25/200], BATCH : [0/234], dis loss : 0.6508073806762695, gen loss : 0.6533544063568115\n",
      "EPOCH : [26/200], BATCH : [0/234], dis loss : 0.6078397631645203, gen loss : 0.9057730436325073\n",
      "EPOCH : [27/200], BATCH : [0/234], dis loss : 0.6643459796905518, gen loss : 1.203918218612671\n",
      "EPOCH : [28/200], BATCH : [0/234], dis loss : 0.6496127247810364, gen loss : 0.6381515264511108\n",
      "EPOCH : [29/200], BATCH : [0/234], dis loss : 0.6552728414535522, gen loss : 0.8870400190353394\n",
      "EPOCH : [30/200], BATCH : [0/234], dis loss : 0.6136089563369751, gen loss : 0.9354389905929565\n",
      "EPOCH : [31/200], BATCH : [0/234], dis loss : 0.6198461055755615, gen loss : 1.076310396194458\n",
      "EPOCH : [32/200], BATCH : [0/234], dis loss : 0.6319136619567871, gen loss : 1.0193531513214111\n",
      "EPOCH : [33/200], BATCH : [0/234], dis loss : 0.6466073989868164, gen loss : 0.6763179302215576\n",
      "EPOCH : [34/200], BATCH : [0/234], dis loss : 0.6186959147453308, gen loss : 1.0535223484039307\n",
      "EPOCH : [35/200], BATCH : [0/234], dis loss : 0.6273077130317688, gen loss : 0.8970758318901062\n",
      "EPOCH : [36/200], BATCH : [0/234], dis loss : 0.6229413747787476, gen loss : 0.7810744047164917\n",
      "EPOCH : [37/200], BATCH : [0/234], dis loss : 0.6461895108222961, gen loss : 0.7822504043579102\n",
      "EPOCH : [38/200], BATCH : [0/234], dis loss : 0.6525552868843079, gen loss : 0.688967227935791\n",
      "EPOCH : [39/200], BATCH : [0/234], dis loss : 0.6540266871452332, gen loss : 1.3110942840576172\n",
      "EPOCH : [40/200], BATCH : [0/234], dis loss : 0.656707227230072, gen loss : 1.1932106018066406\n",
      "EPOCH : [41/200], BATCH : [0/234], dis loss : 0.6443732976913452, gen loss : 0.8803907036781311\n",
      "EPOCH : [42/200], BATCH : [0/234], dis loss : 0.6680850982666016, gen loss : 1.070518970489502\n",
      "EPOCH : [43/200], BATCH : [0/234], dis loss : 0.6359847187995911, gen loss : 0.8457146883010864\n",
      "EPOCH : [44/200], BATCH : [0/234], dis loss : 0.6520042419433594, gen loss : 0.997560977935791\n",
      "EPOCH : [45/200], BATCH : [0/234], dis loss : 0.6320773959159851, gen loss : 0.8738414645195007\n",
      "EPOCH : [46/200], BATCH : [0/234], dis loss : 0.6356105208396912, gen loss : 0.7716121673583984\n",
      "EPOCH : [47/200], BATCH : [0/234], dis loss : 0.6352653503417969, gen loss : 0.924933910369873\n",
      "EPOCH : [48/200], BATCH : [0/234], dis loss : 0.6384592056274414, gen loss : 0.9026129245758057\n",
      "EPOCH : [49/200], BATCH : [0/234], dis loss : 0.6456092596054077, gen loss : 0.8912570476531982\n",
      "EPOCH : [50/200], BATCH : [0/234], dis loss : 0.6463137865066528, gen loss : 0.8181020617485046\n",
      "EPOCH : [51/200], BATCH : [0/234], dis loss : 0.6614806056022644, gen loss : 0.6899888515472412\n",
      "EPOCH : [52/200], BATCH : [0/234], dis loss : 0.642465353012085, gen loss : 0.8829376101493835\n",
      "EPOCH : [53/200], BATCH : [0/234], dis loss : 0.6322405338287354, gen loss : 0.793811559677124\n",
      "EPOCH : [54/200], BATCH : [0/234], dis loss : 0.6423114538192749, gen loss : 0.7802444100379944\n",
      "EPOCH : [55/200], BATCH : [0/234], dis loss : 0.6492812633514404, gen loss : 0.9998930096626282\n",
      "EPOCH : [56/200], BATCH : [0/234], dis loss : 0.638918399810791, gen loss : 0.8862288594245911\n",
      "EPOCH : [57/200], BATCH : [0/234], dis loss : 0.6854828596115112, gen loss : 1.024120807647705\n",
      "EPOCH : [58/200], BATCH : [0/234], dis loss : 0.6672840118408203, gen loss : 0.6780024170875549\n",
      "EPOCH : [59/200], BATCH : [0/234], dis loss : 0.6297972202301025, gen loss : 0.8231160640716553\n",
      "EPOCH : [60/200], BATCH : [0/234], dis loss : 0.6444582343101501, gen loss : 0.8329505324363708\n",
      "EPOCH : [61/200], BATCH : [0/234], dis loss : 0.6427749395370483, gen loss : 0.954552948474884\n",
      "EPOCH : [62/200], BATCH : [0/234], dis loss : 0.6456629633903503, gen loss : 0.8818491101264954\n",
      "EPOCH : [63/200], BATCH : [0/234], dis loss : 0.6809569597244263, gen loss : 0.5900006294250488\n",
      "EPOCH : [64/200], BATCH : [0/234], dis loss : 0.6497342586517334, gen loss : 0.8115520477294922\n",
      "EPOCH : [65/200], BATCH : [0/234], dis loss : 0.6443749666213989, gen loss : 0.878604531288147\n",
      "EPOCH : [66/200], BATCH : [0/234], dis loss : 0.6411160230636597, gen loss : 0.7353471517562866\n",
      "EPOCH : [67/200], BATCH : [0/234], dis loss : 0.6430243849754333, gen loss : 0.7514255046844482\n",
      "EPOCH : [68/200], BATCH : [0/234], dis loss : 0.651047945022583, gen loss : 0.8252755403518677\n",
      "EPOCH : [69/200], BATCH : [0/234], dis loss : 0.6355850696563721, gen loss : 0.6752856373786926\n"
     ]
    },
    {
     "ename": "KeyboardInterrupt",
     "evalue": "",
     "output_type": "error",
     "traceback": [
      "\u001b[1;31m---------------------------------------------------------------------------\u001b[0m",
      "\u001b[1;31mKeyboardInterrupt\u001b[0m                         Traceback (most recent call last)",
      "\u001b[1;32m<ipython-input-74-c75cf1a70312>\u001b[0m in \u001b[0;36m<module>\u001b[1;34m\u001b[0m\n\u001b[0;32m      3\u001b[0m \u001b[1;33m\u001b[0m\u001b[0m\n\u001b[0;32m      4\u001b[0m \u001b[1;32mfor\u001b[0m \u001b[0mepoch\u001b[0m \u001b[1;32min\u001b[0m \u001b[0mrange\u001b[0m\u001b[1;33m(\u001b[0m\u001b[0mNUM_EPOCHS\u001b[0m\u001b[1;33m)\u001b[0m\u001b[1;33m:\u001b[0m\u001b[1;33m\u001b[0m\u001b[1;33m\u001b[0m\u001b[0m\n\u001b[1;32m----> 5\u001b[1;33m     \u001b[1;32mfor\u001b[0m \u001b[0mi\u001b[0m\u001b[1;33m,\u001b[0m\u001b[1;33m(\u001b[0m\u001b[0mimg\u001b[0m\u001b[1;33m,\u001b[0m \u001b[0m_\u001b[0m\u001b[1;33m)\u001b[0m \u001b[1;32min\u001b[0m \u001b[0menumerate\u001b[0m\u001b[1;33m(\u001b[0m\u001b[0mtrain_loader\u001b[0m\u001b[1;33m)\u001b[0m\u001b[1;33m:\u001b[0m\u001b[1;33m\u001b[0m\u001b[1;33m\u001b[0m\u001b[0m\n\u001b[0m\u001b[0;32m      6\u001b[0m         \u001b[0moptimizer_D\u001b[0m\u001b[1;33m.\u001b[0m\u001b[0mzero_grad\u001b[0m\u001b[1;33m(\u001b[0m\u001b[1;33m)\u001b[0m\u001b[1;33m\u001b[0m\u001b[1;33m\u001b[0m\u001b[0m\n\u001b[0;32m      7\u001b[0m         \u001b[0mreal_img\u001b[0m \u001b[1;33m=\u001b[0m \u001b[0mimg\u001b[0m\u001b[1;33m.\u001b[0m\u001b[0mto\u001b[0m\u001b[1;33m(\u001b[0m\u001b[0mdevice\u001b[0m\u001b[1;33m)\u001b[0m\u001b[1;33m\u001b[0m\u001b[1;33m\u001b[0m\u001b[0m\n",
      "\u001b[1;32m~\\anaconda3\\envs\\rlawjdghek\\lib\\site-packages\\torch\\utils\\data\\dataloader.py\u001b[0m in \u001b[0;36m__next__\u001b[1;34m(self)\u001b[0m\n\u001b[0;32m    433\u001b[0m         \u001b[1;32mif\u001b[0m \u001b[0mself\u001b[0m\u001b[1;33m.\u001b[0m\u001b[0m_sampler_iter\u001b[0m \u001b[1;32mis\u001b[0m \u001b[1;32mNone\u001b[0m\u001b[1;33m:\u001b[0m\u001b[1;33m\u001b[0m\u001b[1;33m\u001b[0m\u001b[0m\n\u001b[0;32m    434\u001b[0m             \u001b[0mself\u001b[0m\u001b[1;33m.\u001b[0m\u001b[0m_reset\u001b[0m\u001b[1;33m(\u001b[0m\u001b[1;33m)\u001b[0m\u001b[1;33m\u001b[0m\u001b[1;33m\u001b[0m\u001b[0m\n\u001b[1;32m--> 435\u001b[1;33m         \u001b[0mdata\u001b[0m \u001b[1;33m=\u001b[0m \u001b[0mself\u001b[0m\u001b[1;33m.\u001b[0m\u001b[0m_next_data\u001b[0m\u001b[1;33m(\u001b[0m\u001b[1;33m)\u001b[0m\u001b[1;33m\u001b[0m\u001b[1;33m\u001b[0m\u001b[0m\n\u001b[0m\u001b[0;32m    436\u001b[0m         \u001b[0mself\u001b[0m\u001b[1;33m.\u001b[0m\u001b[0m_num_yielded\u001b[0m \u001b[1;33m+=\u001b[0m \u001b[1;36m1\u001b[0m\u001b[1;33m\u001b[0m\u001b[1;33m\u001b[0m\u001b[0m\n\u001b[0;32m    437\u001b[0m         \u001b[1;32mif\u001b[0m \u001b[0mself\u001b[0m\u001b[1;33m.\u001b[0m\u001b[0m_dataset_kind\u001b[0m \u001b[1;33m==\u001b[0m \u001b[0m_DatasetKind\u001b[0m\u001b[1;33m.\u001b[0m\u001b[0mIterable\u001b[0m \u001b[1;32mand\u001b[0m\u001b[0;31m \u001b[0m\u001b[0;31m\\\u001b[0m\u001b[1;33m\u001b[0m\u001b[1;33m\u001b[0m\u001b[0m\n",
      "\u001b[1;32m~\\anaconda3\\envs\\rlawjdghek\\lib\\site-packages\\torch\\utils\\data\\dataloader.py\u001b[0m in \u001b[0;36m_next_data\u001b[1;34m(self)\u001b[0m\n\u001b[0;32m   1066\u001b[0m \u001b[1;33m\u001b[0m\u001b[0m\n\u001b[0;32m   1067\u001b[0m             \u001b[1;32massert\u001b[0m \u001b[1;32mnot\u001b[0m \u001b[0mself\u001b[0m\u001b[1;33m.\u001b[0m\u001b[0m_shutdown\u001b[0m \u001b[1;32mand\u001b[0m \u001b[0mself\u001b[0m\u001b[1;33m.\u001b[0m\u001b[0m_tasks_outstanding\u001b[0m \u001b[1;33m>\u001b[0m \u001b[1;36m0\u001b[0m\u001b[1;33m\u001b[0m\u001b[1;33m\u001b[0m\u001b[0m\n\u001b[1;32m-> 1068\u001b[1;33m             \u001b[0midx\u001b[0m\u001b[1;33m,\u001b[0m \u001b[0mdata\u001b[0m \u001b[1;33m=\u001b[0m \u001b[0mself\u001b[0m\u001b[1;33m.\u001b[0m\u001b[0m_get_data\u001b[0m\u001b[1;33m(\u001b[0m\u001b[1;33m)\u001b[0m\u001b[1;33m\u001b[0m\u001b[1;33m\u001b[0m\u001b[0m\n\u001b[0m\u001b[0;32m   1069\u001b[0m             \u001b[0mself\u001b[0m\u001b[1;33m.\u001b[0m\u001b[0m_tasks_outstanding\u001b[0m \u001b[1;33m-=\u001b[0m \u001b[1;36m1\u001b[0m\u001b[1;33m\u001b[0m\u001b[1;33m\u001b[0m\u001b[0m\n\u001b[0;32m   1070\u001b[0m             \u001b[1;32mif\u001b[0m \u001b[0mself\u001b[0m\u001b[1;33m.\u001b[0m\u001b[0m_dataset_kind\u001b[0m \u001b[1;33m==\u001b[0m \u001b[0m_DatasetKind\u001b[0m\u001b[1;33m.\u001b[0m\u001b[0mIterable\u001b[0m\u001b[1;33m:\u001b[0m\u001b[1;33m\u001b[0m\u001b[1;33m\u001b[0m\u001b[0m\n",
      "\u001b[1;32m~\\anaconda3\\envs\\rlawjdghek\\lib\\site-packages\\torch\\utils\\data\\dataloader.py\u001b[0m in \u001b[0;36m_get_data\u001b[1;34m(self)\u001b[0m\n\u001b[0;32m   1022\u001b[0m         \u001b[1;32melif\u001b[0m \u001b[0mself\u001b[0m\u001b[1;33m.\u001b[0m\u001b[0m_pin_memory\u001b[0m\u001b[1;33m:\u001b[0m\u001b[1;33m\u001b[0m\u001b[1;33m\u001b[0m\u001b[0m\n\u001b[0;32m   1023\u001b[0m             \u001b[1;32mwhile\u001b[0m \u001b[0mself\u001b[0m\u001b[1;33m.\u001b[0m\u001b[0m_pin_memory_thread\u001b[0m\u001b[1;33m.\u001b[0m\u001b[0mis_alive\u001b[0m\u001b[1;33m(\u001b[0m\u001b[1;33m)\u001b[0m\u001b[1;33m:\u001b[0m\u001b[1;33m\u001b[0m\u001b[1;33m\u001b[0m\u001b[0m\n\u001b[1;32m-> 1024\u001b[1;33m                 \u001b[0msuccess\u001b[0m\u001b[1;33m,\u001b[0m \u001b[0mdata\u001b[0m \u001b[1;33m=\u001b[0m \u001b[0mself\u001b[0m\u001b[1;33m.\u001b[0m\u001b[0m_try_get_data\u001b[0m\u001b[1;33m(\u001b[0m\u001b[1;33m)\u001b[0m\u001b[1;33m\u001b[0m\u001b[1;33m\u001b[0m\u001b[0m\n\u001b[0m\u001b[0;32m   1025\u001b[0m                 \u001b[1;32mif\u001b[0m \u001b[0msuccess\u001b[0m\u001b[1;33m:\u001b[0m\u001b[1;33m\u001b[0m\u001b[1;33m\u001b[0m\u001b[0m\n\u001b[0;32m   1026\u001b[0m                     \u001b[1;32mreturn\u001b[0m \u001b[0mdata\u001b[0m\u001b[1;33m\u001b[0m\u001b[1;33m\u001b[0m\u001b[0m\n",
      "\u001b[1;32m~\\anaconda3\\envs\\rlawjdghek\\lib\\site-packages\\torch\\utils\\data\\dataloader.py\u001b[0m in \u001b[0;36m_try_get_data\u001b[1;34m(self, timeout)\u001b[0m\n\u001b[0;32m    870\u001b[0m         \u001b[1;31m#   (bool: whether successfully get data, any: data if successful else None)\u001b[0m\u001b[1;33m\u001b[0m\u001b[1;33m\u001b[0m\u001b[1;33m\u001b[0m\u001b[0m\n\u001b[0;32m    871\u001b[0m         \u001b[1;32mtry\u001b[0m\u001b[1;33m:\u001b[0m\u001b[1;33m\u001b[0m\u001b[1;33m\u001b[0m\u001b[0m\n\u001b[1;32m--> 872\u001b[1;33m             \u001b[0mdata\u001b[0m \u001b[1;33m=\u001b[0m \u001b[0mself\u001b[0m\u001b[1;33m.\u001b[0m\u001b[0m_data_queue\u001b[0m\u001b[1;33m.\u001b[0m\u001b[0mget\u001b[0m\u001b[1;33m(\u001b[0m\u001b[0mtimeout\u001b[0m\u001b[1;33m=\u001b[0m\u001b[0mtimeout\u001b[0m\u001b[1;33m)\u001b[0m\u001b[1;33m\u001b[0m\u001b[1;33m\u001b[0m\u001b[0m\n\u001b[0m\u001b[0;32m    873\u001b[0m             \u001b[1;32mreturn\u001b[0m \u001b[1;33m(\u001b[0m\u001b[1;32mTrue\u001b[0m\u001b[1;33m,\u001b[0m \u001b[0mdata\u001b[0m\u001b[1;33m)\u001b[0m\u001b[1;33m\u001b[0m\u001b[1;33m\u001b[0m\u001b[0m\n\u001b[0;32m    874\u001b[0m         \u001b[1;32mexcept\u001b[0m \u001b[0mException\u001b[0m \u001b[1;32mas\u001b[0m \u001b[0me\u001b[0m\u001b[1;33m:\u001b[0m\u001b[1;33m\u001b[0m\u001b[1;33m\u001b[0m\u001b[0m\n",
      "\u001b[1;32m~\\anaconda3\\envs\\rlawjdghek\\lib\\queue.py\u001b[0m in \u001b[0;36mget\u001b[1;34m(self, block, timeout)\u001b[0m\n\u001b[0;32m    171\u001b[0m                     \u001b[1;32mif\u001b[0m \u001b[0mremaining\u001b[0m \u001b[1;33m<=\u001b[0m \u001b[1;36m0.0\u001b[0m\u001b[1;33m:\u001b[0m\u001b[1;33m\u001b[0m\u001b[1;33m\u001b[0m\u001b[0m\n\u001b[0;32m    172\u001b[0m                         \u001b[1;32mraise\u001b[0m \u001b[0mEmpty\u001b[0m\u001b[1;33m\u001b[0m\u001b[1;33m\u001b[0m\u001b[0m\n\u001b[1;32m--> 173\u001b[1;33m                     \u001b[0mself\u001b[0m\u001b[1;33m.\u001b[0m\u001b[0mnot_empty\u001b[0m\u001b[1;33m.\u001b[0m\u001b[0mwait\u001b[0m\u001b[1;33m(\u001b[0m\u001b[0mremaining\u001b[0m\u001b[1;33m)\u001b[0m\u001b[1;33m\u001b[0m\u001b[1;33m\u001b[0m\u001b[0m\n\u001b[0m\u001b[0;32m    174\u001b[0m             \u001b[0mitem\u001b[0m \u001b[1;33m=\u001b[0m \u001b[0mself\u001b[0m\u001b[1;33m.\u001b[0m\u001b[0m_get\u001b[0m\u001b[1;33m(\u001b[0m\u001b[1;33m)\u001b[0m\u001b[1;33m\u001b[0m\u001b[1;33m\u001b[0m\u001b[0m\n\u001b[0;32m    175\u001b[0m             \u001b[0mself\u001b[0m\u001b[1;33m.\u001b[0m\u001b[0mnot_full\u001b[0m\u001b[1;33m.\u001b[0m\u001b[0mnotify\u001b[0m\u001b[1;33m(\u001b[0m\u001b[1;33m)\u001b[0m\u001b[1;33m\u001b[0m\u001b[1;33m\u001b[0m\u001b[0m\n",
      "\u001b[1;32m~\\anaconda3\\envs\\rlawjdghek\\lib\\threading.py\u001b[0m in \u001b[0;36mwait\u001b[1;34m(self, timeout)\u001b[0m\n\u001b[0;32m    297\u001b[0m             \u001b[1;32melse\u001b[0m\u001b[1;33m:\u001b[0m\u001b[1;33m\u001b[0m\u001b[1;33m\u001b[0m\u001b[0m\n\u001b[0;32m    298\u001b[0m                 \u001b[1;32mif\u001b[0m \u001b[0mtimeout\u001b[0m \u001b[1;33m>\u001b[0m \u001b[1;36m0\u001b[0m\u001b[1;33m:\u001b[0m\u001b[1;33m\u001b[0m\u001b[1;33m\u001b[0m\u001b[0m\n\u001b[1;32m--> 299\u001b[1;33m                     \u001b[0mgotit\u001b[0m \u001b[1;33m=\u001b[0m \u001b[0mwaiter\u001b[0m\u001b[1;33m.\u001b[0m\u001b[0macquire\u001b[0m\u001b[1;33m(\u001b[0m\u001b[1;32mTrue\u001b[0m\u001b[1;33m,\u001b[0m \u001b[0mtimeout\u001b[0m\u001b[1;33m)\u001b[0m\u001b[1;33m\u001b[0m\u001b[1;33m\u001b[0m\u001b[0m\n\u001b[0m\u001b[0;32m    300\u001b[0m                 \u001b[1;32melse\u001b[0m\u001b[1;33m:\u001b[0m\u001b[1;33m\u001b[0m\u001b[1;33m\u001b[0m\u001b[0m\n\u001b[0;32m    301\u001b[0m                     \u001b[0mgotit\u001b[0m \u001b[1;33m=\u001b[0m \u001b[0mwaiter\u001b[0m\u001b[1;33m.\u001b[0m\u001b[0macquire\u001b[0m\u001b[1;33m(\u001b[0m\u001b[1;32mFalse\u001b[0m\u001b[1;33m)\u001b[0m\u001b[1;33m\u001b[0m\u001b[1;33m\u001b[0m\u001b[0m\n",
      "\u001b[1;31mKeyboardInterrupt\u001b[0m: "
     ]
    }
   ],
   "source": [
    "real_label = torch.autograd.Variable(torch.ones((BATCH_SIZE, 1)), requires_grad = False).to(device)\n",
    "gene_label = torch.autograd.Variable(torch.zeros((BATCH_SIZE, 1)), requires_grad=False).to(device)\n",
    "\n",
    "for epoch in range(NUM_EPOCHS):\n",
    "    for i,(img, _) in enumerate(train_loader):\n",
    "        optimizer_D.zero_grad()\n",
    "        real_img = img.to(device)\n",
    "        latent_z = nn.init.normal_(torch.zeros((BATCH_SIZE, LATENT_DIM))).to(device)\n",
    "        gene_img = generator(latent_z)\n",
    "        real_preds = discriminator(real_img)\n",
    "        gene_preds = discriminator(gene_img.detach())\n",
    "        dis_loss_real = adversarial_loss(real_preds, real_label)\n",
    "        dis_loss_gene = adversarial_loss(gene_preds, gene_label)\n",
    "        dis_loss = (dis_loss_real + dis_loss_gene) / 2\n",
    "        dis_loss.backward()\n",
    "        optimizer_D.step()\n",
    "        \n",
    "        optimizer_G.zero_grad()\n",
    "        gene_preds = discriminator(gene_img)  # 여기서 generator 학습\n",
    "        gen_loss = adversarial_loss(gene_preds, real_label)\n",
    "        gen_loss.backward()\n",
    "        optimizer_G.step()\n",
    "        \n",
    "\n",
    "        if i%300==0:\n",
    "            print(\"EPOCH : [{}/{}], BATCH : [{}/{}], dis loss : {}, gen loss : {}\".format(epoch, NUM_EPOCHS, i, len(train_loader), dis_loss, gen_loss))\n",
    "    \n",
    "    if epoch % 10 == 0:\n",
    "        if not os.path.isdir(\"./result2\"):\n",
    "            print(\"make dir ./result2\")\n",
    "            os.makedirs(\"./result2\")\n",
    "        torchvision.utils.save_image(gene_img[:16], \"./result2/{}.png\".format(epoch), nrow = 5, normalize = True)"
   ]
  },
  {
   "cell_type": "code",
   "execution_count": null,
   "metadata": {},
   "outputs": [],
   "source": [
    "retain_graph="
   ]
  },
  {
   "cell_type": "code",
   "execution_count": null,
   "metadata": {},
   "outputs": [],
   "source": []
  },
  {
   "cell_type": "code",
   "execution_count": null,
   "metadata": {},
   "outputs": [],
   "source": []
  },
  {
   "cell_type": "code",
   "execution_count": null,
   "metadata": {},
   "outputs": [],
   "source": []
  },
  {
   "cell_type": "code",
   "execution_count": null,
   "metadata": {},
   "outputs": [],
   "source": []
  },
  {
   "cell_type": "code",
   "execution_count": null,
   "metadata": {},
   "outputs": [],
   "source": []
  },
  {
   "cell_type": "code",
   "execution_count": null,
   "metadata": {},
   "outputs": [],
   "source": []
  },
  {
   "cell_type": "code",
   "execution_count": null,
   "metadata": {},
   "outputs": [],
   "source": []
  }
 ],
 "metadata": {
  "kernelspec": {
   "display_name": "rlawjdghek",
   "language": "python",
   "name": "rlawjdghek"
  },
  "language_info": {
   "codemirror_mode": {
    "name": "ipython",
    "version": 3
   },
   "file_extension": ".py",
   "mimetype": "text/x-python",
   "name": "python",
   "nbconvert_exporter": "python",
   "pygments_lexer": "ipython3",
   "version": "3.6.12"
  }
 },
 "nbformat": 4,
 "nbformat_minor": 4
}
