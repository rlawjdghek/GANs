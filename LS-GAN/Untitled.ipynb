{
 "cells": [
  {
   "cell_type": "code",
   "execution_count": 6,
   "id": "beadbc1f",
   "metadata": {},
   "outputs": [],
   "source": [
    "from sympy import Derivative, symbols"
   ]
  },
  {
   "cell_type": "code",
   "execution_count": 7,
   "id": "30bfaede",
   "metadata": {},
   "outputs": [
    {
     "name": "stdout",
     "output_type": "stream",
     "text": [
      "fx 의 도함수는 :  16*x**3 + 9*x**2 + 4*x + 1 입니다\n",
      "fx에서 x = 3 에서의 순간변화율(미분계수는)  526 입니다\n"
     ]
    }
   ],
   "source": [
    "x = symbols('x') #x를 기호변수화\n",
    "fx = 4 * x ** 4 + 3 * x ** 3 +  2 * x ** 2 + x + 1\n",
    " \n",
    "fprime = Derivative(fx, x).doit() #x에 대해서 미분\n",
    "print(\"fx 의 도함수는 : \", fprime, \"입니다\")\n",
    "n = fprime.subs({x: 3})\n",
    "print(\"fx에서 x = 3 에서의 순간변화율(미분계수는) \", n , \"입니다\")"
   ]
  },
  {
   "cell_type": "code",
   "execution_count": 9,
   "id": "24552bb3",
   "metadata": {},
   "outputs": [
    {
     "data": {
      "text/plain": [
       "sympy.core.add.Add"
      ]
     },
     "execution_count": 9,
     "metadata": {},
     "output_type": "execute_result"
    }
   ],
   "source": [
    "type(fprime)"
   ]
  },
  {
   "cell_type": "code",
   "execution_count": null,
   "id": "516992f4",
   "metadata": {},
   "outputs": [],
   "source": []
  }
 ],
 "metadata": {
  "kernelspec": {
   "display_name": "GANs",
   "language": "python",
   "name": "gans"
  },
  "language_info": {
   "codemirror_mode": {
    "name": "ipython",
    "version": 3
   },
   "file_extension": ".py",
   "mimetype": "text/x-python",
   "name": "python",
   "nbconvert_exporter": "python",
   "pygments_lexer": "ipython3",
   "version": "3.6.13"
  }
 },
 "nbformat": 4,
 "nbformat_minor": 5
}
