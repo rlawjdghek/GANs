{
 "cells": [
  {
   "cell_type": "code",
   "execution_count": 175,
   "id": "0af8339f",
   "metadata": {},
   "outputs": [],
   "source": [
    "from typing import List\n",
    "import numpy as np\n",
    "import os\n",
    "from tqdm.auto import tqdm\n",
    "from pathlib import Path\n",
    "\n",
    "import torch\n",
    "import torch.nn as nn\n",
    "from torch.autograd import Variable\n",
    "import torchvision\n",
    "import torchvision.transforms as T\n",
    "from torchvision.utils import save_image"
   ]
  },
  {
   "cell_type": "code",
   "execution_count": 176,
   "id": "28b93e55",
   "metadata": {},
   "outputs": [],
   "source": [
    "class args:\n",
    "    gpus = \"0\"\n",
    "    # dataset\n",
    "    n_epochs = 200000\n",
    "    batch_size = 64\n",
    "    img_shape = [1,28,28]\n",
    "    \n",
    "    n_latent = 100\n",
    "    \n",
    "    G_lr = 0.0002\n",
    "    G_betas = (0.5, 0.999)\n",
    "    D_lr = 0.0002\n",
    "    D_betas = (0.5, 0.999)\n",
    "    \n",
    "    gene_img_dir = Path(\"./generated_images\")\n",
    "\n",
    "if not os.path.isdir(args.gene_img_dir):\n",
    "    os.makedirs(args.gene_img_dir)\n",
    "os.environ[\"CUDA_VISIBLE_DEVICES\"] = args.gpus\n",
    "device = torch.device(\"cuda\" if torch.cuda.is_available() else \"cpu\")"
   ]
  },
  {
   "cell_type": "code",
   "execution_count": 177,
   "id": "85dcd1fd",
   "metadata": {},
   "outputs": [],
   "source": [
    "transform = T.Compose([\n",
    "    T.ToTensor()\n",
    "])\n",
    "train_dataset = torchvision.datasets.MNIST(root=\"/data\", download=True, transform=transform)\n",
    "train_loader = torch.utils.data.DataLoader(train_dataset, batch_size = args.batch_size, shuffle=True)"
   ]
  },
  {
   "cell_type": "code",
   "execution_count": 178,
   "id": "5c2f251c",
   "metadata": {},
   "outputs": [],
   "source": [
    "def init_weight(layer):\n",
    "    cls_name = layer.__class__.__name__\n",
    "    if cls_name.find(\"Conv\") != -1:\n",
    "        torch.nn.init.normal_(layer.weight.data, 0.0, 0.02)\n",
    "    elif cls_name.find(\"BatchNorm\") != -1:\n",
    "        torch.nn.init.normal_(layer.weight.data, 1.0, 0.02)\n",
    "        torch.nn.init.constant_(layer.bias.data, 0.0)\n",
    "        \n",
    "\n",
    "\n",
    "class Generator(nn.Module):\n",
    "    def __init__(self, n_latent : int, img_shape : List):\n",
    "        super(Generator, self).__init__()\n",
    "        self.init_shape = [img_shape[0], img_shape[1]//4, img_shape[2]//4]\n",
    "        self.linear = nn.Linear(n_latent, np.prod(self.init_shape))\n",
    "        self.generator = nn.Sequential(\n",
    "            nn.ConvTranspose2d(self.init_shape[0], 64, 2, 2),\n",
    "            nn.BatchNorm2d(64),\n",
    "            nn.ReLU(),\n",
    "            nn.ConvTranspose2d(64, 128, 2, 2),\n",
    "            nn.BatchNorm2d(128),\n",
    "            nn.ReLU(),\n",
    "            nn.Conv2d(128, img_shape[0], 3, 1, 1),\n",
    "            nn.Tanh()\n",
    "        )\n",
    "        \n",
    "    def forward(self, z):\n",
    "        z = self.linear(z)\n",
    "        z = z.reshape(z.shape[0], *self.init_shape)\n",
    "        return self.generator(z)\n",
    "    \n",
    "class Discriminator(nn.Module):\n",
    "    def __init__(self, img_shape):\n",
    "        super(Discriminator, self).__init__()\n",
    "        self.discrminator = nn.Sequential(\n",
    "            nn.Conv2d(img_shape[0], 64, 3, 2, 1),\n",
    "            nn.BatchNorm2d(64),\n",
    "            nn.ReLU(),\n",
    "            nn.Conv2d(64, 128, 3, 2, 1),\n",
    "            nn.BatchNorm2d(128),\n",
    "            nn.ReLU()\n",
    "        )\n",
    "        self.linear = nn.Sequential(\n",
    "            nn.Linear(128 * 7 * 7, 1)\n",
    "        )\n",
    "        \n",
    "    def forward(self, x):\n",
    "        x = self.discrminator(x)\n",
    "        x = x.reshape(x.shape[0], -1)\n",
    "        return self.linear(x)\n",
    "        \n"
   ]
  },
  {
   "cell_type": "code",
   "execution_count": 179,
   "id": "50723205",
   "metadata": {},
   "outputs": [
    {
     "data": {
      "text/plain": [
       "Discriminator(\n",
       "  (discrminator): Sequential(\n",
       "    (0): Conv2d(1, 64, kernel_size=(3, 3), stride=(2, 2), padding=(1, 1))\n",
       "    (1): BatchNorm2d(64, eps=1e-05, momentum=0.1, affine=True, track_running_stats=True)\n",
       "    (2): ReLU()\n",
       "    (3): Conv2d(64, 128, kernel_size=(3, 3), stride=(2, 2), padding=(1, 1))\n",
       "    (4): BatchNorm2d(128, eps=1e-05, momentum=0.1, affine=True, track_running_stats=True)\n",
       "    (5): ReLU()\n",
       "  )\n",
       "  (linear): Sequential(\n",
       "    (0): Linear(in_features=6272, out_features=1, bias=True)\n",
       "  )\n",
       ")"
      ]
     },
     "execution_count": 179,
     "metadata": {},
     "output_type": "execute_result"
    }
   ],
   "source": [
    "generator = Generator(args.n_latent, args.img_shape).to(device)\n",
    "discriminator = Discriminator(args.img_shape).to(device)\n",
    "generator.apply(init_weight)\n",
    "discriminator.apply(init_weight)                                         "
   ]
  },
  {
   "cell_type": "code",
   "execution_count": 180,
   "id": "3ea94e3e",
   "metadata": {},
   "outputs": [],
   "source": [
    "criterion_MSE = torch.nn.MSELoss()\n",
    "optimizer_G = torch.optim.Adam(generator.parameters(), lr = args.G_lr, betas=args.G_betas)\n",
    "optimizer_D = torch.optim.Adam(discriminator.parameters(), lr = args.D_lr, betas=args.D_betas)"
   ]
  },
  {
   "cell_type": "code",
   "execution_count": null,
   "id": "66ecff22",
   "metadata": {},
   "outputs": [
    {
     "data": {
      "application/vnd.jupyter.widget-view+json": {
       "model_id": "5bea22aea3444ac992c4c1ec51d0a9ba",
       "version_major": 2,
       "version_minor": 0
      },
      "text/plain": [
       "training:   0%|          | 0/938 [00:00<?, ?it/s]"
      ]
     },
     "metadata": {},
     "output_type": "display_data"
    }
   ],
   "source": [
    "ones_label = Variable(torch.ones(args.batch_size), requires_grad=False).to(device)\n",
    "zeros_label = Variable(torch.zeros(args.batch_size), requires_grad=False).to(device)\n",
    "for epoch in range(args.n_epochs):\n",
    "    train_loop = tqdm(train_loader, total=len(train_loader), desc=\"training\", colour=\"blue\", leave=False)\n",
    "    G_loss_sum = 0\n",
    "    D_loss_sum = 0\n",
    "    for img, label in train_loop:\n",
    "        img = img.to(device)\n",
    "        label = label.to(device)\n",
    "        latent_z = torch.randn(args.batch_size, args.n_latent).to(device)\n",
    "        \n",
    "        \n",
    "        \n",
    "        gene_img = generator(latent_z)\n",
    "        # training D\n",
    "        \n",
    "        gene_logit = discriminator(gene_img.detach())\n",
    "        real_logit = discriminator(img)\n",
    "        D_loss = (criterion_MSE(gene_logit, zeros_label) + criterion_MSE(real_logit, ones_label)) / 2\n",
    "        optimizer_D.zero_grad()\n",
    "        D_loss.backward()\n",
    "        optimizer_D.step()    \n",
    "        \n",
    "        # training G\n",
    "        gene_logit = discriminator(gene_img)\n",
    "        G_loss = criterion_MSE(gene_logit, ones_label)\n",
    "        optimizer_G.zero_grad()\n",
    "        G_loss.backward()\n",
    "        optimizer_G.step()\n",
    "        \n",
    "        D_loss_sum += D_loss.item()\n",
    "        G_loss_sum += G_loss.item()\n",
    "    print(f\"D loss : {D_loss_sum/len(train_loader)}, G loss : {G_loss_sum/len(train_loader)}\")\n",
    "    save_image(gene_img, args.gene_img_dir / f\"{epoch}.png\")"
   ]
  },
  {
   "cell_type": "code",
   "execution_count": null,
   "id": "2b67cfc4",
   "metadata": {},
   "outputs": [],
   "source": []
  },
  {
   "cell_type": "code",
   "execution_count": null,
   "id": "99a66090",
   "metadata": {},
   "outputs": [],
   "source": []
  },
  {
   "cell_type": "code",
   "execution_count": null,
   "id": "9195a84f",
   "metadata": {},
   "outputs": [],
   "source": []
  },
  {
   "cell_type": "code",
   "execution_count": null,
   "id": "e7ae614c",
   "metadata": {},
   "outputs": [],
   "source": []
  }
 ],
 "metadata": {
  "kernelspec": {
   "display_name": "GANs",
   "language": "python",
   "name": "gans"
  },
  "language_info": {
   "codemirror_mode": {
    "name": "ipython",
    "version": 3
   },
   "file_extension": ".py",
   "mimetype": "text/x-python",
   "name": "python",
   "nbconvert_exporter": "python",
   "pygments_lexer": "ipython3",
   "version": "3.6.13"
  }
 },
 "nbformat": 4,
 "nbformat_minor": 5
}
