{
 "cells": [
  {
   "cell_type": "code",
   "execution_count": 7,
   "id": "d8fc895b",
   "metadata": {},
   "outputs": [],
   "source": [
    "from models import Generator, Discriminator\n",
    "from datasets import CelebA_dataset\n",
    "from loss.gradient_penalty import compute_gradient_penalty\n",
    "from utils.utils import Logger, make_samples\n",
    "\n",
    "import os\n",
    "import numpy as np\n",
    "from tqdm import tqdm\n",
    "import matplotlib.pyplot as plt\n",
    "\n",
    "import torch\n",
    "import torch.nn as nn\n",
    "import torchvision.transforms as T\n",
    "import torchvision\n",
    "from torch.utils.data import DataLoader"
   ]
  },
  {
   "cell_type": "code",
   "execution_count": 8,
   "id": "b7ea3098",
   "metadata": {},
   "outputs": [],
   "source": [
    "class args:\n",
    "    # dataset\n",
    "    num_workers=0\n",
    "    batch_size = 16\n",
    "    data_root_dir = \"/jupyterdata/CelebA/\"\n",
    "    H = 128\n",
    "    W = 128\n",
    "    # hyperparameters\n",
    "    epochs = 10000\n",
    "    betas = (0.5, 0.999)\n",
    "    lr = 0.0002\n",
    "    dis_per_gene = 5  # 논문에서 G 1번에 D 5번 훈련했다. \n",
    "    lr_decay_step_size = 10\n",
    "    lr_decay_gamma = 0.1\n",
    "    in_ch = 3\n",
    "    out_ch = 3\n",
    "    n_domain = 5\n",
    "    attributes = [\"Black_Hair\", \"Blond_Hair\", \"Brown_Hair\", \"Male\", \"Young\"]\n",
    "    lambda_cls = 1\n",
    "    lambda_rec = 10\n",
    "    lambda_gp = 10\n",
    "    \n",
    "    \n",
    "    # generator\n",
    "    gene_n_down = 3\n",
    "    gene_n_bottle = 6\n",
    "    gene_n_up = 2\n",
    "    gene_n_cur_dim = 64\n",
    "    \n",
    "    # discriminator\n",
    "    dis_n_hidden = 5\n",
    "    dis_n_cur_dim = 64\n",
    "    \n",
    "    img_save_epoch=10\n",
    "    changes = [\n",
    "    [[0,1],[1,0],[2,0],[3,1],[4,1]],  # 검은 머리색 남자, 젊음\n",
    "    [[0,0],[1,1],[2,0],[3,1],[4,1]],  # 금발 머리색 남자, 젊음\n",
    "    [[0,0],[1,0],[2,1],[3,1],[4,1]],  # 갈색 머리색 남자, 젊음\n",
    "    [[3,0],[4,0]],  # 기존 머리색 여자, 늙음\n",
    "    [[3,0],[4,1]]  # 기본 머리색 여자, 젊음\n",
    "    ]\n",
    "    \n",
    "logger=Logger()\n",
    "logger.open(\"./log.txt\")"
   ]
  },
  {
   "cell_type": "code",
   "execution_count": 9,
   "id": "f0cda4e8",
   "metadata": {},
   "outputs": [
    {
     "name": "stdout",
     "output_type": "stream",
     "text": [
      "# imgs : 200600\n",
      "# imgs : 1999\n"
     ]
    }
   ],
   "source": [
    "transform = T.Compose([\n",
    "    T.Resize((args.H, args.W)),\n",
    "    T.RandomHorizontalFlip(0.5), \n",
    "    T.ToTensor(),\n",
    "    T.Normalize([0.5,0.5,0.5], [0.5,0.5,0.5])\n",
    "])\n",
    "\n",
    "train_dataset = CelebA_dataset(root_dir=args.data_root_dir, mode=\"train\", transform=transform, attributes=args.attributes)\n",
    "test_dataset = CelebA_dataset(root_dir=args.data_root_dir, mode=\"test\", transform=transform, attributes=args.attributes)\n",
    "train_loader = DataLoader(train_dataset, batch_size=args.batch_size, num_workers=args.num_workers, drop_last=True)\n",
    "test_loader = DataLoader(test_dataset, batch_size=args.batch_size, num_workers=args.num_workers, drop_last=True)"
   ]
  },
  {
   "cell_type": "code",
   "execution_count": 10,
   "id": "87b194ed",
   "metadata": {},
   "outputs": [],
   "source": [
    "device = torch.device(\"cuda\" if torch.cuda.is_available() else \"cpu\")\n",
    "generator = Generator(args.in_ch, args.out_ch, args.n_domain, args.gene_n_down, args.gene_n_bottle, args.gene_n_up, args.gene_n_cur_dim).to(device)\n",
    "discriminator = Discriminator(args.in_ch, args.n_domain, args.dis_n_hidden, args.dis_n_cur_dim).to(device)"
   ]
  },
  {
   "cell_type": "code",
   "execution_count": 11,
   "id": "c1405a55",
   "metadata": {},
   "outputs": [],
   "source": [
    "optimizer_G = torch.optim.Adam(generator.parameters(), lr=args.lr, betas=args.betas)\n",
    "optimizer_D = torch.optim.Adam(discriminator.parameters(), lr=args.lr, betas=args.betas)\n",
    "scheduler_G = torch.optim.lr_scheduler.StepLR(optimizer_G, step_size=args.lr_decay_step_size, gamma=args.lr_decay_gamma)\n",
    "scheduler_D = torch.optim.lr_scheduler.StepLR(optimizer_D, step_size=args.lr_decay_step_size, gamma=args.lr_decay_gamma)\n",
    "criterion_BCElogit = torch.nn.BCEWithLogitsLoss()\n",
    "criterion_L1 = torch.nn.L1Loss()"
   ]
  },
  {
   "cell_type": "code",
   "execution_count": 12,
   "id": "6ce9a800",
   "metadata": {
    "scrolled": false
   },
   "outputs": [
    {
     "name": "stderr",
     "output_type": "stream",
     "text": [
      "                                                                                                                       \r"
     ]
    },
    {
     "ename": "KeyboardInterrupt",
     "evalue": "",
     "output_type": "error",
     "traceback": [
      "\u001b[1;31m---------------------------------------------------------------------------\u001b[0m",
      "\u001b[1;31mKeyboardInterrupt\u001b[0m                         Traceback (most recent call last)",
      "\u001b[1;32m<ipython-input-12-7c506eb7c876>\u001b[0m in \u001b[0;36m<module>\u001b[1;34m\u001b[0m\n\u001b[0;32m     18\u001b[0m         \u001b[0mpred_real\u001b[0m\u001b[1;33m,\u001b[0m \u001b[0mpred_label\u001b[0m \u001b[1;33m=\u001b[0m \u001b[0mdiscriminator\u001b[0m\u001b[1;33m(\u001b[0m\u001b[0mimg\u001b[0m\u001b[1;33m)\u001b[0m\u001b[1;33m\u001b[0m\u001b[1;33m\u001b[0m\u001b[0m\n\u001b[0;32m     19\u001b[0m         \u001b[0mpred_fake\u001b[0m\u001b[1;33m,\u001b[0m \u001b[0mpred_random_c\u001b[0m \u001b[1;33m=\u001b[0m \u001b[0mdiscriminator\u001b[0m\u001b[1;33m(\u001b[0m\u001b[0mgene_img\u001b[0m\u001b[1;33m.\u001b[0m\u001b[0mdetach\u001b[0m\u001b[1;33m(\u001b[0m\u001b[1;33m)\u001b[0m\u001b[1;33m)\u001b[0m\u001b[1;33m\u001b[0m\u001b[1;33m\u001b[0m\u001b[0m\n\u001b[1;32m---> 20\u001b[1;33m         \u001b[0mgradient_penalty\u001b[0m \u001b[1;33m=\u001b[0m \u001b[0mcompute_gradient_penalty\u001b[0m\u001b[1;33m(\u001b[0m\u001b[0mdiscriminator\u001b[0m\u001b[1;33m,\u001b[0m \u001b[0mimg\u001b[0m\u001b[1;33m.\u001b[0m\u001b[0mdata\u001b[0m\u001b[1;33m,\u001b[0m \u001b[0mgene_img\u001b[0m\u001b[1;33m.\u001b[0m\u001b[0mdata\u001b[0m\u001b[1;33m,\u001b[0m \u001b[0mdevice\u001b[0m\u001b[1;33m)\u001b[0m\u001b[1;33m\u001b[0m\u001b[1;33m\u001b[0m\u001b[0m\n\u001b[0m\u001b[0;32m     21\u001b[0m \u001b[1;33m\u001b[0m\u001b[0m\n\u001b[0;32m     22\u001b[0m         \u001b[0mD_adv_loss\u001b[0m \u001b[1;33m=\u001b[0m \u001b[1;33m-\u001b[0m\u001b[0mtorch\u001b[0m\u001b[1;33m.\u001b[0m\u001b[0mmean\u001b[0m\u001b[1;33m(\u001b[0m\u001b[0mpred_real\u001b[0m\u001b[1;33m)\u001b[0m \u001b[1;33m+\u001b[0m \u001b[0mtorch\u001b[0m\u001b[1;33m.\u001b[0m\u001b[0mmean\u001b[0m\u001b[1;33m(\u001b[0m\u001b[0mpred_fake\u001b[0m\u001b[1;33m)\u001b[0m \u001b[1;33m+\u001b[0m \u001b[0margs\u001b[0m\u001b[1;33m.\u001b[0m\u001b[0mlambda_gp\u001b[0m \u001b[1;33m*\u001b[0m \u001b[0mgradient_penalty\u001b[0m\u001b[1;33m\u001b[0m\u001b[1;33m\u001b[0m\u001b[0m\n",
      "\u001b[1;32mD:\\jupyter\\GANs\\STAR-GAN\\loss\\gradient_penalty.py\u001b[0m in \u001b[0;36mcompute_gradient_penalty\u001b[1;34m(D, real_samples, fake_samples, device)\u001b[0m\n\u001b[0;32m      8\u001b[0m     \u001b[1;34m\"\"\"Calculates the gradient penalty loss for WGAN GP\"\"\"\u001b[0m\u001b[1;33m\u001b[0m\u001b[1;33m\u001b[0m\u001b[0m\n\u001b[0;32m      9\u001b[0m     \u001b[1;31m# Random weight term for interpolation between real and fake samples\u001b[0m\u001b[1;33m\u001b[0m\u001b[1;33m\u001b[0m\u001b[1;33m\u001b[0m\u001b[0m\n\u001b[1;32m---> 10\u001b[1;33m     \u001b[0malpha\u001b[0m \u001b[1;33m=\u001b[0m \u001b[0mtorch\u001b[0m\u001b[1;33m.\u001b[0m\u001b[0mFloatTensor\u001b[0m\u001b[1;33m(\u001b[0m\u001b[0mnp\u001b[0m\u001b[1;33m.\u001b[0m\u001b[0mrandom\u001b[0m\u001b[1;33m.\u001b[0m\u001b[0mrandom\u001b[0m\u001b[1;33m(\u001b[0m\u001b[1;33m(\u001b[0m\u001b[0mreal_samples\u001b[0m\u001b[1;33m.\u001b[0m\u001b[0msize\u001b[0m\u001b[1;33m(\u001b[0m\u001b[1;36m0\u001b[0m\u001b[1;33m)\u001b[0m\u001b[1;33m,\u001b[0m \u001b[1;36m1\u001b[0m\u001b[1;33m,\u001b[0m \u001b[1;36m1\u001b[0m\u001b[1;33m,\u001b[0m \u001b[1;36m1\u001b[0m\u001b[1;33m)\u001b[0m\u001b[1;33m)\u001b[0m\u001b[1;33m)\u001b[0m\u001b[1;33m.\u001b[0m\u001b[0mto\u001b[0m\u001b[1;33m(\u001b[0m\u001b[0mdevice\u001b[0m\u001b[1;33m)\u001b[0m\u001b[1;33m\u001b[0m\u001b[1;33m\u001b[0m\u001b[0m\n\u001b[0m\u001b[0;32m     11\u001b[0m     \u001b[1;31m# Get random interpolation between real and fake samples\u001b[0m\u001b[1;33m\u001b[0m\u001b[1;33m\u001b[0m\u001b[1;33m\u001b[0m\u001b[0m\n\u001b[0;32m     12\u001b[0m     \u001b[0minterpolates\u001b[0m \u001b[1;33m=\u001b[0m \u001b[1;33m(\u001b[0m\u001b[0malpha\u001b[0m \u001b[1;33m*\u001b[0m \u001b[0mreal_samples\u001b[0m \u001b[1;33m+\u001b[0m \u001b[1;33m(\u001b[0m\u001b[1;33m(\u001b[0m\u001b[1;36m1\u001b[0m \u001b[1;33m-\u001b[0m \u001b[0malpha\u001b[0m\u001b[1;33m)\u001b[0m \u001b[1;33m*\u001b[0m \u001b[0mfake_samples\u001b[0m\u001b[1;33m)\u001b[0m\u001b[1;33m)\u001b[0m\u001b[1;33m.\u001b[0m\u001b[0mrequires_grad_\u001b[0m\u001b[1;33m(\u001b[0m\u001b[1;32mTrue\u001b[0m\u001b[1;33m)\u001b[0m\u001b[1;33m\u001b[0m\u001b[1;33m\u001b[0m\u001b[0m\n",
      "\u001b[1;31mKeyboardInterrupt\u001b[0m: "
     ]
    }
   ],
   "source": [
    "iter_ = iter(test_loader)\n",
    "if not os.path.isdir(\"./generated_images\"):\n",
    "    os.makedirs(\"./generated_images\")\n",
    "for epoch in range(args.epochs):\n",
    "    sum_D_loss = 0\n",
    "    sum_G_loss = 0\n",
    "    train_loop = tqdm(enumerate(train_loader), total = len(train_loader), leave=False)\n",
    "    for i, batch in train_loop:\n",
    "        img = batch[\"img\"]\n",
    "        label = batch[\"label\"]        \n",
    "        img = img.to(device)\n",
    "        label = label.to(device)\n",
    "        \n",
    "        random_c = torch.FloatTensor(np.random.randint(0, 2, (args.batch_size, args.n_domain))).to(device)\n",
    "        gene_img = generator(img, random_c)\n",
    "        \n",
    "        # train discriminator\n",
    "        pred_real, pred_label = discriminator(img)\n",
    "        pred_fake, pred_random_c = discriminator(gene_img.detach())\n",
    "        gradient_penalty = compute_gradient_penalty(discriminator, img.data, gene_img.data, device)\n",
    "        \n",
    "        D_adv_loss = -torch.mean(pred_real) + torch.mean(pred_fake) + args.lambda_gp * gradient_penalty  \n",
    "        # 생각 잘 해보면, 이 값이 최소화 되기 위해서는 pred_real이 최대화 => 1\n",
    "        # pred_fake가 최소화 => 0이 되어야 한다. 즉, BCE와 유사하다. \n",
    "        D_cls_loss = criterion_BCElogit(pred_label, label)\n",
    "        D_loss = D_adv_loss + args.lambda_cls * D_cls_loss\n",
    "        optimizer_D.zero_grad()\n",
    "        D_loss.backward()\n",
    "        optimizer_D.step()\n",
    "        \n",
    "        if i % args.dis_per_gene ==0:  # D 5번에 G 1번\n",
    "            # training generator\n",
    "            gene_img = generator(img, random_c)\n",
    "            recons_img = generator(gene_img, label)  # random c로 만들고, label을 넣어서 생성하면, label이 반영된 이미지가 나온다. 따라서 이것과 \n",
    "            # 원래의 이미지로 로스를 구하면 재구성하는 로스가 된다.\n",
    "\n",
    "\n",
    "            pred_fake, pred_label = discriminator(gene_img)\n",
    "            G_adv_loss = -torch.mean(pred_fake)  # 이걸 최소화 하기 위해서는 fake를 넣었음에도 1이 되어야 한다. \n",
    "            G_cls_loss = criterion_BCElogit(pred_label, random_c)  # 생성하기 위해 random_c를 넣었으므로 random_c의 성질을 같은 이미지를 만들어야 한다.\n",
    "            G_recons_loss = criterion_L1(img, recons_img)\n",
    "            G_loss = G_adv_loss + args.lambda_cls * G_cls_loss + args.lambda_rec * G_recons_loss\n",
    "            optimizer_G.zero_grad()\n",
    "            G_loss.backward()\n",
    "            optimizer_G.step()\n",
    "            sum_D_loss += D_loss.item()\n",
    "            sum_G_loss += G_loss.item()\n",
    "            train_loop.set_description(\"batch : [{}/{}], D loss : {}, G loss : {}\".format(i, len(train_loader), D_loss, G_loss))\n",
    "        if i % args.img_save_epoch ==0:\n",
    "            try: data = next(iter_)\n",
    "            except : \n",
    "                iter_ = iter(test_loader)\n",
    "                dawta = next(iter_)\n",
    "                \n",
    "            img = data[\"img\"]\n",
    "            label = data[\"label\"]\n",
    "            samples = make_samples(generator, img, label, args.n_domain, args.changes, device)\n",
    "            torchvision.utils.save_image(samples.unsqueeze(0), f\"./generated_images/{epoch}_{i}.png\", normalize=True)\n",
    "    scheduler_D.step()\n",
    "    scheduler_G.step()\n",
    "        \n",
    "            \n",
    "    if not os.path.isdir(\"./saved_model\"):\n",
    "        os.makedirs(\"./saved_model\")\n",
    "    torch.save(discriminator.state_dict(), \"./saved_model/D_{}.pth\".format(epoch))\n",
    "    torch.save(generator.state_dict(), \"./saved_model/G_{}.pth\".format(epoch))\n",
    "    logger.write(f\"D_loss : {sum_D_loss / len(train_loader)}, G_loss : {sum_G_loss / len(train_loader)}\\n\")\n",
    "    "
   ]
  },
  {
   "cell_type": "code",
   "execution_count": null,
   "id": "eccdd5cc",
   "metadata": {},
   "outputs": [],
   "source": []
  },
  {
   "cell_type": "code",
   "execution_count": null,
   "id": "4e5e9cb1",
   "metadata": {},
   "outputs": [],
   "source": []
  },
  {
   "cell_type": "code",
   "execution_count": null,
   "id": "dfe87e12",
   "metadata": {},
   "outputs": [],
   "source": []
  },
  {
   "cell_type": "code",
   "execution_count": null,
   "id": "0d8bb8cd",
   "metadata": {},
   "outputs": [],
   "source": []
  }
 ],
 "metadata": {
  "kernelspec": {
   "display_name": "GANs",
   "language": "python",
   "name": "gans"
  },
  "language_info": {
   "codemirror_mode": {
    "name": "ipython",
    "version": 3
   },
   "file_extension": ".py",
   "mimetype": "text/x-python",
   "name": "python",
   "nbconvert_exporter": "python",
   "pygments_lexer": "ipython3",
   "version": "3.6.13"
  }
 },
 "nbformat": 4,
 "nbformat_minor": 5
}
